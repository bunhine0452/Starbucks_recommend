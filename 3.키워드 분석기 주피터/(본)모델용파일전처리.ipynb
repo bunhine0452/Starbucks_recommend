{
 "cells": [
  {
   "cell_type": "code",
   "execution_count": 2,
   "metadata": {},
   "outputs": [
    {
     "name": "stdout",
     "output_type": "stream",
     "text": [
      "      Store_Name                                              nouns  \\\n",
      "0   스타벅스 을지로4가역점  ['커피', '디저트', '여행', '을지로4가역', '을지로4가역', '점', '...   \n",
      "1  스타벅스 을지로경기빌딩점  ['냠냠', '지로', '대형', '지로', '경기', '빌딩', '점', '녜',...   \n",
      "2  스타벅스 을지로국제빌딩점  ['서울', '서울', '중구', '다동', '에코', '지로', '국제', '빌딩...   \n",
      "3  스타벅스 을지로삼화타워점  ['을지로입구역', '을지로입구역', '리유', '블', '컵', '코', '지로'...   \n",
      "4  스타벅스 을지로한국빌딩점  ['리뷰', '로그', '내', '돈', '내산', '을지로', '한국', '빌딩'...   \n",
      "\n",
      "                                           frequency  \n",
      "0  {'커피': 7, '디저트': 8, '여행': 5, '을지로4가역': 52, '내산...  \n",
      "1  {'지로': 45, '경기': 49, '빌딩': 53, '이용': 8, '블로그':...  \n",
      "2  {'서울': 16, '중구': 15, '에코': 17, '지로': 60, '국제':...  \n",
      "3  {'을지로입구역': 20, '리유': 19, '지로': 22, '삼화': 55, '...  \n",
      "4  {'리뷰': 5, '내산': 4, '을지로': 30, '한국': 16, '빌딩': ...  \n"
     ]
    }
   ],
   "source": [
    "import pandas as pd\n",
    "\n",
    "# 두 개의 CSV 파일 로드\n",
    "file_path1 = './data/스타벅스매장별키워드빈도.csv'  # 본문 데이터가 저장된 CSV 파일 경로\n",
    "file_path2 = './data/starbucks_main.csv'  # 정확한 Store_Name 데이터가 저장된 CSV 파일 경로\n",
    "\n",
    "data1 = pd.read_csv(file_path1)  # 첫 번째 CSV 파일을 읽어서 DataFrame으로 저장\n",
    "data2 = pd.read_csv(file_path2)  # 두 번째 CSV 파일을 읽어서 DataFrame으로 저장\n",
    "\n",
    "# Store_Name과 store_name의 공백 제거 및 소문자 변환\n",
    "data1['Store_Name'] = data1['Store_Name'].str.strip().str.lower()\n",
    "data2['store_name'] = data2['store_name'].str.strip().str.lower()\n",
    "\n",
    "# Store_Name이 일치하는 행들만 필터링\n",
    "filtered_data = data1[data1['Store_Name'].isin(data2['store_name'])]\n",
    "\n",
    "# 결과 저장\n",
    "output_file_path = './data/필터링된스타벅스키워드빈도.csv'  # 결과를 저장할 CSV 파일 경로\n",
    "filtered_data.to_csv(output_file_path, index=False)\n",
    "\n",
    "# 결과 확인\n",
    "print(filtered_data.head())\n"
   ]
  }
 ],
 "metadata": {
  "kernelspec": {
   "display_name": "base",
   "language": "python",
   "name": "python3"
  },
  "language_info": {
   "codemirror_mode": {
    "name": "ipython",
    "version": 3
   },
   "file_extension": ".py",
   "mimetype": "text/x-python",
   "name": "python",
   "nbconvert_exporter": "python",
   "pygments_lexer": "ipython3",
   "version": "3.9.12"
  }
 },
 "nbformat": 4,
 "nbformat_minor": 2
}
